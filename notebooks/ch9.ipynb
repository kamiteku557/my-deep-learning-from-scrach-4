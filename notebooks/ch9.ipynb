{
 "cells": [
  {
   "cell_type": "markdown",
   "id": "f895f141-4445-4d99-a6db-d53068a64c0a",
   "metadata": {},
   "source": [
    "# Ch9"
   ]
  },
  {
   "cell_type": "code",
   "execution_count": 1,
   "id": "4c147dfa-4aaa-4497-ad17-8db5839a845c",
   "metadata": {},
   "outputs": [
    {
     "name": "stderr",
     "output_type": "stream",
     "text": [
      "/usr/local/lib/python3.10/site-packages/gym/wrappers/monitoring/video_recorder.py:9: DeprecationWarning: The distutils package is deprecated and slated for removal in Python 3.12. Use setuptools or check PEP 632 for potential alternatives\n",
      "  import distutils.spawn\n"
     ]
    }
   ],
   "source": [
    "import random\n",
    "\n",
    "import gnwrapper\n",
    "import gym\n",
    "import matplotlib.pyplot as plt\n",
    "import numpy as np\n",
    "import torch\n",
    "from icecream import ic\n",
    "from tqdm.notebook import tqdm\n",
    "\n",
    "import ch9\n",
    "\n",
    "%load_ext autoreload\n",
    "%autoreload 2\n",
    "%matplotlib inline"
   ]
  },
  {
   "cell_type": "markdown",
   "id": "cef785fe-088f-45e2-8e3e-74275d2d215e",
   "metadata": {},
   "source": [
    "## 9.1"
   ]
  },
  {
   "cell_type": "code",
   "execution_count": 2,
   "id": "90550d0d-4ed6-410d-b240-5de9c1383337",
   "metadata": {},
   "outputs": [
    {
     "name": "stderr",
     "output_type": "stream",
     "text": [
      "ic| state: array([-0.0401332 ,  0.04683496,  0.04863632, -0.04987584], dtype=float32)\n",
      "ic| action: 0\n",
      "ic| prob: tensor(0.5365, grad_fn=<SelectBackward0>)\n",
      "ic| J: tensor(-62.2751, grad_fn=<MulBackward0>)\n"
     ]
    }
   ],
   "source": [
    "env = gym.make(\"CartPole-v1\")\n",
    "state = env.reset()\n",
    "agent = ch9.actor_critic.Agent()\n",
    "\n",
    "ic(state)\n",
    "\n",
    "action, prob = agent.get_action(state)\n",
    "\n",
    "ic(action)\n",
    "ic(prob)\n",
    "\n",
    "# dummy weight\n",
    "G = 100.0\n",
    "J = G * torch.log(prob)\n",
    "\n",
    "ic(J)\n",
    "\n",
    "J.backward()"
   ]
  },
  {
   "cell_type": "code",
   "execution_count": 3,
   "id": "cdfe5849-a8e6-4f0b-b6c0-27804d3474c8",
   "metadata": {},
   "outputs": [
    {
     "data": {
      "application/vnd.jupyter.widget-view+json": {
       "model_id": "88ca4ff339d84aed9106390186e80151",
       "version_major": 2,
       "version_minor": 0
      },
      "text/plain": [
       "  0%|          | 0/3000 [00:00<?, ?it/s]"
      ]
     },
     "metadata": {},
     "output_type": "display_data"
    },
    {
     "name": "stderr",
     "output_type": "stream",
     "text": [
      "ic| i_episode: 100\n",
      "ic| sum_reward: 13.0\n",
      "ic| i_episode: 200\n",
      "ic| sum_reward: 12.0\n",
      "ic| i_episode: 300\n",
      "ic| sum_reward: 39.0\n",
      "ic| i_episode: 400\n",
      "ic| sum_reward: 23.0\n",
      "ic| i_episode: 500\n",
      "ic| sum_reward: 25.0\n",
      "ic| i_episode: 600\n",
      "ic| sum_reward: 17.0\n",
      "ic| i_episode: 700\n",
      "ic| sum_reward: 19.0\n",
      "ic| i_episode: 800\n",
      "ic| sum_reward: 11.0\n",
      "ic| i_episode: 900\n",
      "ic| sum_reward: 43.0\n",
      "ic| i_episode: 1000\n",
      "ic| sum_reward: 21.0\n",
      "ic| i_episode: 1100\n",
      "ic| sum_reward: 38.0\n",
      "ic| i_episode: 1200\n",
      "ic| sum_reward: 21.0\n",
      "ic| i_episode: 1300\n",
      "ic| sum_reward: 65.0\n",
      "ic| i_episode: 1400\n",
      "ic| sum_reward: 25.0\n",
      "ic| i_episode: 1500\n",
      "ic| sum_reward: 35.0\n",
      "ic| i_episode: 1600\n",
      "ic| sum_reward: 37.0\n",
      "ic| i_episode: 1700\n",
      "ic| sum_reward: 73.0\n",
      "ic| i_episode: 1800\n",
      "ic| sum_reward: 75.0\n",
      "ic| i_episode: 1900\n",
      "ic| sum_reward: 51.0\n",
      "ic| i_episode: 2000\n",
      "ic| sum_reward: 49.0\n",
      "ic| i_episode: 2100\n",
      "ic| sum_reward: 42.0\n",
      "ic| i_episode: 2200\n",
      "ic| sum_reward: 48.0\n",
      "ic| i_episode: 2300\n",
      "ic| sum_reward: 61.0\n",
      "ic| i_episode: 2400\n",
      "ic| sum_reward: 37.0\n",
      "ic| i_episode: 2500\n",
      "ic| sum_reward: 39.0\n",
      "ic| i_episode: 2600\n",
      "ic| sum_reward: 71.0\n",
      "ic| i_episode: 2700\n",
      "ic| sum_reward: 57.0\n",
      "ic| i_episode: 2800\n",
      "ic| sum_reward: 51.0\n",
      "ic| i_episode: 2900\n",
      "ic| sum_reward: 87.0\n",
      "ic| i_episode: 3000\n",
      "ic| sum_reward: 55.0\n"
     ]
    }
   ],
   "source": [
    "episodes = 3000\n",
    "env = gym.make(\"CartPole-v1\")\n",
    "agent = ch9.policy_gradient.Agent()\n",
    "reward_history = []\n",
    "\n",
    "for i_episode in tqdm(range(1, episodes + 1)):\n",
    "    state = env.reset()\n",
    "    done = False\n",
    "    sum_reward = 0\n",
    "\n",
    "    while not done:\n",
    "        action, prob = agent.get_action(state)\n",
    "        next_state, reward, done, info = env.step(action)\n",
    "\n",
    "        agent.add(reward, prob)\n",
    "        state = next_state\n",
    "        sum_reward += reward\n",
    "\n",
    "    agent.update()\n",
    "\n",
    "    reward_history.append(sum_reward)\n",
    "    if i_episode % 100 == 0:\n",
    "        ic(i_episode)\n",
    "        ic(sum_reward)"
   ]
  },
  {
   "cell_type": "code",
   "execution_count": 4,
   "id": "3bf4326c-f894-46d2-94d4-7bb20f0861bb",
   "metadata": {},
   "outputs": [
    {
     "data": {
      "image/png": "[encoded data removed]",
      "text/plain": [
       "<Figure size 432x288 with 1 Axes>"
      ]
     },
     "metadata": {
      "needs_background": "light"
     },
     "output_type": "display_data"
    }
   ],
   "source": [
    "fig, ax = plt.subplots(1, 1)\n",
    "ax.plot(range(episodes), reward_history)\n",
    "plt.show()"
   ]
  },
  {
   "cell_type": "markdown",
   "id": "4889203c-ba71-4d31-82f5-4ff78973e461",
   "metadata": {},
   "source": [
    "## 9.2"
   ]
  },
  {
   "cell_type": "code",
   "execution_count": 5,
   "id": "38d74a40-fe48-484c-bbae-e18be00921d1",
   "metadata": {},
   "outputs": [
    {
     "data": {
      "application/vnd.jupyter.widget-view+json": {
       "model_id": "a8f949158a8b40dfab4492220cfa2f32",
       "version_major": 2,
       "version_minor": 0
      },
      "text/plain": [
       "  0%|          | 0/3000 [00:00<?, ?it/s]"
      ]
     },
     "metadata": {},
     "output_type": "display_data"
    },
    {
     "name": "stderr",
     "output_type": "stream",
     "text": [
      "ic| i_episode: 100\n",
      "ic| sum_reward: 14.0\n",
      "ic| i_episode: 200\n",
      "ic| sum_reward: 33.0\n",
      "ic| i_episode: 300\n",
      "ic| sum_reward: 28.0\n",
      "ic| i_episode: 400\n",
      "ic| sum_reward: 29.0\n",
      "ic| i_episode: 500\n",
      "ic| sum_reward: 14.0\n",
      "ic| i_episode: 600\n",
      "ic| sum_reward: 73.0\n",
      "ic| i_episode: 700\n",
      "ic| sum_reward: 20.0\n",
      "ic| i_episode: 800\n",
      "ic| sum_reward: 95.0\n",
      "ic| i_episode: 900\n",
      "ic| sum_reward: 50.0\n",
      "ic| i_episode: 1000\n",
      "ic| sum_reward: 109.0\n",
      "ic| i_episode: 1100\n",
      "ic| sum_reward: 310.0\n",
      "ic| i_episode: 1200\n",
      "ic| sum_reward: 48.0\n",
      "ic| i_episode: 1300\n",
      "ic| sum_reward: 204.0\n",
      "ic| i_episode: 1400\n",
      "ic| sum_reward: 500.0\n",
      "ic| i_episode: 1500\n",
      "ic| sum_reward: 488.0\n",
      "ic| i_episode: 1600\n",
      "ic| sum_reward: 308.0\n",
      "ic| i_episode: 1700\n",
      "ic| sum_reward: 270.0\n",
      "ic| i_episode: 1800\n",
      "ic| sum_reward: 285.0\n",
      "ic| i_episode: 1900\n",
      "ic| sum_reward: 342.0\n",
      "ic| i_episode: 2000\n",
      "ic| sum_reward: 281.0\n",
      "ic| i_episode: 2100\n",
      "ic| sum_reward: 500.0\n",
      "ic| i_episode: 2200\n",
      "ic| sum_reward: 297.0\n",
      "ic| i_episode: 2300\n",
      "ic| sum_reward: 413.0\n",
      "ic| i_episode: 2400\n",
      "ic| sum_reward: 277.0\n",
      "ic| i_episode: 2500\n",
      "ic| sum_reward: 130.0\n",
      "ic| i_episode: 2600\n",
      "ic| sum_reward: 380.0\n",
      "ic| i_episode: 2700\n",
      "ic| sum_reward: 156.0\n",
      "ic| i_episode: 2800\n",
      "ic| sum_reward: 255.0\n",
      "ic| i_episode: 2900\n",
      "ic| sum_reward: 220.0\n",
      "ic| i_episode: 3000\n",
      "ic| sum_reward: 166.0\n"
     ]
    }
   ],
   "source": [
    "episodes = 3000\n",
    "env = gym.make(\"CartPole-v1\")\n",
    "agent = ch9.policy_gradient.Agent(update_by_REINFORCE=True)\n",
    "reward_history = []\n",
    "\n",
    "for i_episode in tqdm(range(1, episodes + 1)):\n",
    "    state = env.reset()\n",
    "    done = False\n",
    "    sum_reward = 0\n",
    "\n",
    "    while not done:\n",
    "        action, prob = agent.get_action(state)\n",
    "        next_state, reward, done, info = env.step(action)\n",
    "\n",
    "        agent.add(reward, prob)\n",
    "        state = next_state\n",
    "        sum_reward += reward\n",
    "\n",
    "    agent.update()\n",
    "\n",
    "    reward_history.append(sum_reward)\n",
    "    if i_episode % 100 == 0:\n",
    "        ic(i_episode)\n",
    "        ic(sum_reward)"
   ]
  },
  {
   "cell_type": "code",
   "execution_count": 6,
   "id": "23783361-2e0c-4f1b-8d09-4c046170e446",
   "metadata": {},
   "outputs": [
    {
     "data": {
      "image/png": "[encoded data removed]",
      "text/plain": [
       "<Figure size 432x288 with 1 Axes>"
      ]
     },
     "metadata": {
      "needs_background": "light"
     },
     "output_type": "display_data"
    }
   ],
   "source": [
    "fig, ax = plt.subplots(1, 1)\n",
    "ax.plot(range(episodes), reward_history)\n",
    "plt.show()"
   ]
  },
  {
   "cell_type": "markdown",
   "id": "299c3f70-6928-40d0-9c79-4507db2af32b",
   "metadata": {},
   "source": [
    "# 9.4"
   ]
  },
  {
   "cell_type": "code",
   "execution_count": null,
   "id": "94304350-3e9c-4a4d-ac5e-28a1c25e5ce4",
   "metadata": {},
   "outputs": [
    {
     "data": {
      "application/vnd.jupyter.widget-view+json": {
       "model_id": "2bc4d316b92f43e791bd230f419a6b7d",
       "version_major": 2,
       "version_minor": 0
      },
      "text/plain": [
       "  0%|          | 0/2000 [00:00<?, ?it/s]"
      ]
     },
     "metadata": {},
     "output_type": "display_data"
    },
    {
     "name": "stderr",
     "output_type": "stream",
     "text": [
      "ic| i_episode: 100\n",
      "ic| total_reward: 92.0\n",
      "ic| i_episode: 200\n",
      "ic| total_reward: 126.0\n",
      "ic| i_episode: 300\n",
      "ic| total_reward: 298.0\n",
      "ic| i_episode: 400\n",
      "ic| total_reward: 208.0\n",
      "ic| i_episode: 500\n",
      "ic| total_reward: 118.0\n",
      "ic| i_episode: 600\n",
      "ic| total_reward: 201.0\n",
      "ic| i_episode: 700\n",
      "ic| total_reward: 154.0\n",
      "ic| i_episode: 800\n",
      "ic| total_reward: 114.0\n",
      "ic| i_episode: 900\n",
      "ic| total_reward: 94.0\n",
      "ic| i_episode: 1000\n",
      "ic| total_reward: 215.0\n",
      "ic| i_episode: 1100\n",
      "ic| total_reward: 125.0\n",
      "ic| i_episode: 1200\n",
      "ic| total_reward: 282.0\n",
      "ic| i_episode: 1300\n",
      "ic| total_reward: 160.0\n",
      "ic| i_episode: 1400\n",
      "ic| total_reward: 141.0\n",
      "ic| i_episode: 1500\n",
      "ic| total_reward: 198.0\n",
      "ic| i_episode: 1600\n",
      "ic| total_reward: 234.0\n",
      "ic| i_episode: 1700\n",
      "ic| total_reward: 202.0\n",
      "ic| i_episode: 1800\n",
      "ic| total_reward: 307.0\n",
      "ic| i_episode: 1900\n",
      "ic| total_reward: 155.0\n"
     ]
    }
   ],
   "source": [
    "episodes = 2000\n",
    "env = gym.make(\"CartPole-v1\")\n",
    "agent = ch9.actor_critic.Agent()\n",
    "reward_history = []\n",
    "\n",
    "for i_episode in tqdm(range(1, episodes + 1)):\n",
    "    state = env.reset()\n",
    "    done = False\n",
    "    total_reward = 0\n",
    "\n",
    "    while not done:\n",
    "        action, prob = agent.get_action(state)\n",
    "        next_state, reward, done, info = env.step(action)\n",
    "\n",
    "        agent.update(state, prob, reward, next_state, done)\n",
    "\n",
    "        state = next_state\n",
    "        total_reward += reward\n",
    "\n",
    "    reward_history.append(total_reward)\n",
    "    if i_episode % 100 == 0:\n",
    "        ic(i_episode)\n",
    "        ic(total_reward)"
   ]
  },
  {
   "cell_type": "code",
   "execution_count": null,
   "id": "5d9fb8d2-6790-4460-a116-0b1649f48ed9",
   "metadata": {},
   "outputs": [],
   "source": [
    "fig, ax = plt.subplots(1, 1)\n",
    "ax.plot(range(episodes), reward_history)\n",
    "plt.show()"
   ]
  },
  {
   "cell_type": "code",
   "execution_count": null,
   "id": "25b0259d-1ed0-40c0-a9df-7c52bd719cd8",
   "metadata": {},
   "outputs": [],
   "source": []
  }
 ],
 "metadata": {
  "kernelspec": {
   "display_name": "Python 3 (ipykernel)",
   "language": "python",
   "name": "python3"
  },
  "language_info": {
   "codemirror_mode": {
    "name": "ipython",
    "version": 3
   },
   "file_extension": ".py",
   "mimetype": "text/x-python",
   "name": "python",
   "nbconvert_exporter": "python",
   "pygments_lexer": "ipython3",
   "version": "3.10.4"
  }
 },
 "nbformat": 4,
 "nbformat_minor": 5
}
